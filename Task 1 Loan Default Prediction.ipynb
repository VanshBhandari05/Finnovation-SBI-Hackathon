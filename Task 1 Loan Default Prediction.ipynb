{
 "cells": [
  {
   "cell_type": "code",
   "execution_count": 1,
   "id": "e2bdb318-2b7e-4772-9764-c053f03f8a14",
   "metadata": {},
   "outputs": [],
   "source": [
    "import pandas as pd\n",
    "import numpy as np\n",
    "import re\n",
    "from sklearn.model_selection import train_test_split, GridSearchCV\n",
    "from sklearn.impute import SimpleImputer\n",
    "from sklearn.preprocessing import MinMaxScaler, PowerTransformer\n",
    "from sklearn.metrics import classification_report, confusion_matrix, accuracy_score, precision_recall_curve\n",
    "from xgboost import XGBClassifier\n",
    "from lightgbm import LGBMClassifier\n",
    "from imblearn.combine import SMOTETomek\n",
    "import shap"
   ]
  },
  {
   "cell_type": "code",
   "execution_count": 2,
   "id": "4f42820f-2820-4cd2-a7bc-26829ab24732",
   "metadata": {},
   "outputs": [],
   "source": [
    "df = pd.read_csv(\"HACKATHON_TRAINING_DATA.CSV\")"
   ]
  },
  {
   "cell_type": "code",
   "execution_count": 3,
   "id": "d35aa376-3354-46f0-b307-71668cb41cc7",
   "metadata": {},
   "outputs": [
    {
     "name": "stderr",
     "output_type": "stream",
     "text": [
      "C:\\Users\\vansh\\AppData\\Local\\Temp\\ipykernel_21544\\3756179476.py:2: FutureWarning: Downcasting behavior in `replace` is deprecated and will be removed in a future version. To retain the old behavior, explicitly call `result.infer_objects(copy=False)`. To opt-in to the future behavior, set `pd.set_option('future.no_silent_downcasting', True)`\n",
      "  df[flag_columns] = df[flag_columns].replace({'Y': 1, 'N': 0})\n"
     ]
    }
   ],
   "source": [
    "flag_columns = ['SI_FLG', 'LOCKER_HLDR_IND', 'UID_FLG', 'KYC_FLG', 'INB_FLG', 'EKYC_FLG']\n",
    "df[flag_columns] = df[flag_columns].replace({'Y': 1, 'N': 0})\n",
    "df[flag_columns] = df[flag_columns].astype(float)"
   ]
  },
  {
   "cell_type": "code",
   "execution_count": 4,
   "id": "5f83e531-9265-4825-a22c-045fdc7fcf9c",
   "metadata": {},
   "outputs": [],
   "source": [
    "def convert_to_months(s):\n",
    "    if pd.isna(s): return np.nan\n",
    "    s = str(s).lower().strip()\n",
    "    pattern = r'(?:(\\d+)\\s*yrs?)?\\s*(?:(\\d+)\\s*(?:months|mon))?'\n",
    "    match = re.match(pattern, s)\n",
    "    if match:\n",
    "        years = int(match.group(1)) if match.group(1) else 0\n",
    "        months = int(match.group(2)) if match.group(2) else 0\n",
    "        return years * 12 + months\n",
    "    return np.nan\n",
    "\n",
    "df['CREDIT_HISTORY_LENGTH1'] = df['CREDIT_HISTORY_LENGTH1'].apply(convert_to_months)\n",
    "df['AVERAGE_ACCT_AGE1'] = df['AVERAGE_ACCT_AGE1'].apply(convert_to_months)"
   ]
  },
  {
   "cell_type": "code",
   "execution_count": 5,
   "id": "69725fed-eea4-4fba-8673-b9a3fb5ffdaa",
   "metadata": {},
   "outputs": [],
   "source": [
    "income_band_mapping = {\n",
    "    'A': 1, 'B': 2, 'C': 3, 'D': 4, 'E': 5, 'F': 6, 'G': 7,\n",
    "    'H': 8, 'I': 9, 'J': 10, 'K': 11, 'L': 12, 'M': 13, 'EX05': 14\n",
    "}\n",
    "df['INCOME_BAND1'] = df['INCOME_BAND1'].map(lambda x: income_band_mapping.get(x, np.nan))"
   ]
  },
  {
   "cell_type": "code",
   "execution_count": 6,
   "id": "94fefc84-0d9d-4cc9-bc9d-aa32e84c25d6",
   "metadata": {},
   "outputs": [],
   "source": [
    "if 'ONEMNTHCR' in df.columns:\n",
    "    df.rename(columns={'ONEMNTHCR': 'ONEMNTHSCR'}, inplace=True)"
   ]
  },
  {
   "cell_type": "code",
   "execution_count": 7,
   "id": "3adcc5ac-388e-4fd2-a393-16dc191cb8bd",
   "metadata": {},
   "outputs": [],
   "source": [
    "agreg_group_mapping = {\n",
    "    '#Total Auto Loan': 1,\n",
    "    '#Total Xpress Credit': 2,\n",
    "    '#Housing Loan': 3,\n",
    "    '#Education Loan Total': 4\n",
    "}\n",
    "df['AGREG_GROUP'] = df['AGREG_GROUP'].map(lambda x: agreg_group_mapping.get(x, np.nan))"
   ]
  },
  {
   "cell_type": "code",
   "execution_count": 8,
   "id": "f7a17feb-40d6-4e00-8971-d9f4a0c8e369",
   "metadata": {},
   "outputs": [],
   "source": [
    "product_type_mapping = {\n",
    "    'AUTO LOAN': 1,\n",
    "    'PERSONAL LOAN': 2,\n",
    "    'HOME LOAN': 3,\n",
    "    'EDUCATION LOAN': 4\n",
    "}\n",
    "df['PRODUCT_TYPE'] = df['PRODUCT_TYPE'].map(lambda x: product_type_mapping.get(x, np.nan))"
   ]
  },
  {
   "cell_type": "code",
   "execution_count": 9,
   "id": "c85ebc9a-70e1-4dfc-b42a-4c24879c225b",
   "metadata": {},
   "outputs": [],
   "source": [
    "month_map = {\n",
    "    'JAN': '01', 'FEB': '02', 'MAR': '03', 'APR': '04', 'MAY': '05', 'JUN': '06',\n",
    "    'JUL': '07', 'AUG': '08', 'SEP': '09', 'OCT': '10', 'NOV': '11', 'DEC': '12'\n",
    "}\n",
    "\n",
    "def convert_time_period(val):\n",
    "    if pd.isna(val): return np.nan\n",
    "    match = re.match(r'([A-Z]{3})(\\d{2})', str(val).upper())\n",
    "    if match:\n",
    "        month = month_map.get(match.group(1), '00')\n",
    "        year = '20' + match.group(2)\n",
    "        return int(year + month)\n",
    "    return np.nan\n",
    "\n",
    "df['TIME_PERIOD'] = df['TIME_PERIOD'].apply(convert_time_period)"
   ]
  },
  {
   "cell_type": "code",
   "execution_count": 10,
   "id": "cbb7525e-e7e8-473f-abd6-12983775f702",
   "metadata": {},
   "outputs": [],
   "source": [
    "rg_columns = [\n",
    "    'LAST_1_YR_RG4', 'LAST_3_YR_RG4', 'LAST_1_YR_RG3', 'LAST_1_YR_RG2', 'LAST_1_YR_RG1',\n",
    "    'FIRST_NPA_TENURE', 'CUST_NO_OF_TIMES_NPA', 'LATEST_NPA_TENURE', 'NO_YRS_NPA',\n",
    "    'LATEST_RG3_TENURE', 'NO_YRS_RG3', 'TOT_IRAC_CHNG', 'TIMES_IRAC_SLIP', 'TIMES_IRAC_UPR',\n",
    "    'NO_ENQ', 'CRIFF_11', 'CRIFF_22', 'CRIFF_33', 'CRIFF_44', 'CRIFF_55', 'CRIFF_66', 'TOTAL_CRIFF1'\n",
    "]\n",
    "df[rg_columns] = df[rg_columns].fillna(0)"
   ]
  },
  {
   "cell_type": "code",
   "execution_count": 11,
   "id": "d0d25a1a-2064-449c-9732-a8917632ac61",
   "metadata": {},
   "outputs": [],
   "source": [
    "sdr_cols = [f'{i}MNTHSDR' for i in [\n",
    "    'ONE','TWO','THREE','FOUR','FIVE','SIX','SEVEN','EIGHT','NINE','TEN','ELEVEN','TWELVE'\n",
    "]]\n",
    "df[sdr_cols] = df[sdr_cols].apply(pd.to_numeric, errors='coerce').fillna(0)\n",
    "df['ALL_LON_LIMIT'] = pd.to_numeric(df['ALL_LON_LIMIT'], errors='coerce').fillna(0)\n",
    "df[sdr_cols] = df[sdr_cols].abs()"
   ]
  },
  {
   "cell_type": "code",
   "execution_count": 12,
   "id": "20128d35-7c4a-4f61-9072-d81766f19f52",
   "metadata": {},
   "outputs": [],
   "source": [
    "monthly_limit = df['ALL_LON_LIMIT'] / 12\n",
    "df_overspend = df[sdr_cols].sub(monthly_limit, axis=0)\n",
    "total_spend = df[sdr_cols].sum(axis=1)\n",
    "total_overspend = df_overspend.clip(lower=0).sum(axis=1)\n",
    "df['overspend_ratio'] = total_overspend / (total_spend + 1e-6)"
   ]
  },
  {
   "cell_type": "code",
   "execution_count": 13,
   "id": "07e8df86-9b92-46ef-912c-ce5b4b118f07",
   "metadata": {},
   "outputs": [],
   "source": [
    "limit_matrix = pd.DataFrame(\n",
    "    np.tile(monthly_limit.values[:, None], (1, len(sdr_cols))),\n",
    "    columns=sdr_cols, index=df.index\n",
    ")\n",
    "overspend_flags = df[sdr_cols] > limit_matrix\n",
    "\n",
    "def max_consecutive_true(arr):\n",
    "    max_streak = streak = 0\n",
    "    for val in arr:\n",
    "        if val:\n",
    "            streak += 1\n",
    "            max_streak = max(max_streak, streak)\n",
    "        else:\n",
    "            streak = 0\n",
    "    return max_streak\n",
    "\n",
    "df['max_consec_overspend'] = overspend_flags.apply(max_consecutive_true, axis=1)"
   ]
  },
  {
   "cell_type": "code",
   "execution_count": 14,
   "id": "306fc718-d283-42fb-ba82-b8b5e1a4d388",
   "metadata": {},
   "outputs": [],
   "source": [
    "out_cols = [f'{i}MNTHOUTSTANGBAL' for i in [\n",
    "    'TWELVE','ELEVEN','TEN','NINE','EIGHT','SEVEN',\n",
    "    'SIX','FIVE','FOUR','THREE','TWO','ONE'\n",
    "]]\n",
    "df[out_cols] = df[out_cols].apply(pd.to_numeric, errors='coerce').fillna(0)"
   ]
  },
  {
   "cell_type": "code",
   "execution_count": 15,
   "id": "b007de94-c36c-404e-b6f8-63d0ecd452af",
   "metadata": {},
   "outputs": [],
   "source": [
    "def calc_slope(row):\n",
    "    x = np.arange(12)\n",
    "    y = row.values\n",
    "    return np.polyfit(x, y, 1)[0]\n",
    "\n",
    "df['outbal_slope'] = df[out_cols].apply(calc_slope, axis=1)\n",
    "df['outbal_is_declining'] = (df['outbal_slope'] < 0).astype(int)"
   ]
  },
  {
   "cell_type": "code",
   "execution_count": 16,
   "id": "1f240136-fa1b-4522-aa60-b32045b77943",
   "metadata": {},
   "outputs": [],
   "source": [
    "term_debit_cols = [f\"{i}MNTHAVGMTD\" for i in [\n",
    "    'ONE','TWO','THREE','FOUR','FIVE','SIX','SEVEN',\n",
    "    'EIGHT','NINE','TEN','ELEVEN','TWELVE'\n",
    "]]\n",
    "df[term_debit_cols] = df[term_debit_cols].fillna(0)\n",
    "df['slope_MTD'] = df[term_debit_cols].apply(calc_slope, axis=1)\n",
    "df['is_debit_declining_MTD'] = (df['slope_MTD'] < 0).astype(int)"
   ]
  },
  {
   "cell_type": "code",
   "execution_count": 17,
   "id": "66fbe399-adb6-4b7a-97bc-5383fb382322",
   "metadata": {},
   "outputs": [
    {
     "name": "stdout",
     "output_type": "stream",
     "text": [
      "\n",
      "Dropped 72 columns: ['ONEMNTHSCR', 'ONEMNTHSDR', 'ONEMNTHOUTSTANGBAL', 'ONEMNTHAVGMTD', 'ONEMNTHAVGQTD', 'ONEMNTHAVGYTD', 'TWOMNTHSCR', 'TWOMNTHSDR', 'TWOMNTHOUTSTANGBAL', 'TWOMNTHAVGMTD', 'TWOMNTHAVGQTD', 'TWOMNTHAVGYTD', 'THREEMNTHSCR', 'THREEMNTHSDR', 'THREEMNTHOUTSTANGBAL', 'THREEMNTHAVGMTD', 'THREEMNTHAVGQTD', 'THREEMNTHAVGYTD', 'FOURMNTHSCR', 'FOURMNTHSDR', 'FOURMNTHOUTSTANGBAL', 'FOURMNTHAVGMTD', 'FOURMNTHAVGQTD', 'FOURMNTHAVGYTD', 'FIVEMNTHSCR', 'FIVEMNTHSDR', 'FIVEMNTHOUTSTANGBAL', 'FIVEMNTHAVGMTD', 'FIVEMNTHAVGQTD', 'FIVEMNTHAVGYTD', 'SIXMNTHSCR', 'SIXMNTHSDR', 'SIXMNTHOUTSTANGBAL', 'SIXMNTHAVGMTD', 'SIXMNTHAVGQTD', 'SIXMNTHAVGYTD', 'SEVENMNTHSCR', 'SEVENMNTHSDR', 'SEVENMNTHOUTSTANGBAL', 'SEVENMNTHAVGMTD', 'SEVENMNTHAVGQTD', 'SEVENMNTHAVGYTD', 'EIGHTMNTHSCR', 'EIGHTMNTHSDR', 'EIGHTMNTHOUTSTANGBAL', 'EIGHTMNTHAVGMTD', 'EIGHTMNTHAVGQTD', 'EIGHTMNTHAVGYTD', 'NINEMNTHSCR', 'NINEMNTHSDR', 'NINEMNTHOUTSTANGBAL', 'NINEMNTHAVGMTD', 'NINEMNTHAVGQTD', 'NINEMNTHAVGYTD', 'TENMNTHSCR', 'TENMNTHSDR', 'TENMNTHOUTSTANGBAL', 'TENMNTHAVGMTD', 'TENMNTHAVGQTD', 'TENMNTHAVGYTD', 'ELEVENMNTHSCR', 'ELEVENMNTHSDR', 'ELEVENMNTHOUTSTANGBAL', 'ELEVENMNTHAVGMTD', 'ELEVENMNTHAVGQTD', 'ELEVENMNTHAVGYTD', 'TWELVEMNTHSCR', 'TWELVEMNTHSDR', 'TWELVEMNTHOUTSTANGBAL', 'TWELVEMNTHAVGMTD', 'TWELVEMNTHAVGQTD', 'TWELVEMNTHAVGYTD']\n"
     ]
    }
   ],
   "source": [
    "keywords_to_remove = ['SDR', 'SCR', 'OUTSTANGBAL', 'AVGMTD', 'AVGQTD', 'AVGYTD']\n",
    "exceptions = ['KYC_SCR']\n",
    "cols_to_drop = [\n",
    "    col for col in df.columns\n",
    "    if any(kw in col for kw in keywords_to_remove) and col not in exceptions\n",
    "]\n",
    "df.drop(columns=cols_to_drop, inplace=True)\n",
    "print(f\"\\nDropped {len(cols_to_drop)} columns: {cols_to_drop}\")"
   ]
  },
  {
   "cell_type": "code",
   "execution_count": 18,
   "id": "1d2d7613-4f45-444f-8315-54ed828410d3",
   "metadata": {},
   "outputs": [],
   "source": [
    "df.to_csv(\"cleaned_data.csv\", index=False)"
   ]
  },
  {
   "cell_type": "code",
   "execution_count": 19,
   "id": "59813151-56b5-40e9-a37f-de5e867d4de4",
   "metadata": {},
   "outputs": [],
   "source": [
    "X = df.drop(columns=['TARGET'])\n",
    "y = df['TARGET']"
   ]
  },
  {
   "cell_type": "code",
   "execution_count": 20,
   "id": "cddbefc1-c0f1-455c-9963-6b99fc85a7af",
   "metadata": {},
   "outputs": [],
   "source": [
    "X_train, X_test, y_train, y_test = train_test_split(\n",
    "    X, y, test_size=0.2, random_state=42, stratify=y\n",
    ")"
   ]
  },
  {
   "cell_type": "code",
   "execution_count": 21,
   "id": "6c5a7ce2-ea38-47ef-bec1-b48010c6f00b",
   "metadata": {},
   "outputs": [],
   "source": [
    "imputer = SimpleImputer(strategy='median')\n",
    "X_train_imputed = pd.DataFrame(imputer.fit_transform(X_train), columns=X_train.columns)\n",
    "X_test_imputed = pd.DataFrame(imputer.transform(X_test), columns=X_test.columns)"
   ]
  },
  {
   "cell_type": "code",
   "execution_count": 22,
   "id": "77d8a35a-8e53-4ad9-b038-47d6283a203b",
   "metadata": {},
   "outputs": [],
   "source": [
    "numeric_cols = X_train_imputed.select_dtypes(include=[np.number]).columns\n",
    "yeo = PowerTransformer(method='yeo-johnson', standardize=False)\n",
    "X_train_imputed[numeric_cols] = yeo.fit_transform(X_train_imputed[numeric_cols])\n",
    "X_test_imputed[numeric_cols] = yeo.transform(X_test_imputed[numeric_cols])"
   ]
  },
  {
   "cell_type": "code",
   "execution_count": 23,
   "id": "5a4fb87d-c64a-45b4-97c1-64a27b720f96",
   "metadata": {},
   "outputs": [],
   "source": [
    "scaler = MinMaxScaler()\n",
    "X_train_scaled = pd.DataFrame(scaler.fit_transform(X_train_imputed), columns=X_train.columns)\n",
    "X_test_scaled = pd.DataFrame(scaler.transform(X_test_imputed), columns=X_test.columns)"
   ]
  },
  {
   "cell_type": "code",
   "execution_count": 24,
   "id": "28dc7c35-b027-4557-adc3-acf59f759519",
   "metadata": {},
   "outputs": [],
   "source": [
    "smote_tomek = SMOTETomek(random_state=42)\n",
    "X_res, y_res = smote_tomek.fit_resample(X_train_scaled, y_train)"
   ]
  },
  {
   "cell_type": "code",
   "execution_count": 25,
   "id": "1c01ec6c-9ce7-4121-879c-fcf1c8915920",
   "metadata": {},
   "outputs": [
    {
     "name": "stderr",
     "output_type": "stream",
     "text": [
      "C:\\Users\\vansh\\anaconda3\\Lib\\site-packages\\xgboost\\training.py:183: UserWarning: [20:12:41] WARNING: C:\\actions-runner\\_work\\xgboost\\xgboost\\src\\learner.cc:738: \n",
      "Parameters: { \"use_label_encoder\" } are not used.\n",
      "\n",
      "  bst.update(dtrain, iteration=i, fobj=obj)\n"
     ]
    },
    {
     "data": {
      "text/html": [
       "<style>#sk-container-id-1 {color: black;background-color: white;}#sk-container-id-1 pre{padding: 0;}#sk-container-id-1 div.sk-toggleable {background-color: white;}#sk-container-id-1 label.sk-toggleable__label {cursor: pointer;display: block;width: 100%;margin-bottom: 0;padding: 0.3em;box-sizing: border-box;text-align: center;}#sk-container-id-1 label.sk-toggleable__label-arrow:before {content: \"▸\";float: left;margin-right: 0.25em;color: #696969;}#sk-container-id-1 label.sk-toggleable__label-arrow:hover:before {color: black;}#sk-container-id-1 div.sk-estimator:hover label.sk-toggleable__label-arrow:before {color: black;}#sk-container-id-1 div.sk-toggleable__content {max-height: 0;max-width: 0;overflow: hidden;text-align: left;background-color: #f0f8ff;}#sk-container-id-1 div.sk-toggleable__content pre {margin: 0.2em;color: black;border-radius: 0.25em;background-color: #f0f8ff;}#sk-container-id-1 input.sk-toggleable__control:checked~div.sk-toggleable__content {max-height: 200px;max-width: 100%;overflow: auto;}#sk-container-id-1 input.sk-toggleable__control:checked~label.sk-toggleable__label-arrow:before {content: \"▾\";}#sk-container-id-1 div.sk-estimator input.sk-toggleable__control:checked~label.sk-toggleable__label {background-color: #d4ebff;}#sk-container-id-1 div.sk-label input.sk-toggleable__control:checked~label.sk-toggleable__label {background-color: #d4ebff;}#sk-container-id-1 input.sk-hidden--visually {border: 0;clip: rect(1px 1px 1px 1px);clip: rect(1px, 1px, 1px, 1px);height: 1px;margin: -1px;overflow: hidden;padding: 0;position: absolute;width: 1px;}#sk-container-id-1 div.sk-estimator {font-family: monospace;background-color: #f0f8ff;border: 1px dotted black;border-radius: 0.25em;box-sizing: border-box;margin-bottom: 0.5em;}#sk-container-id-1 div.sk-estimator:hover {background-color: #d4ebff;}#sk-container-id-1 div.sk-parallel-item::after {content: \"\";width: 100%;border-bottom: 1px solid gray;flex-grow: 1;}#sk-container-id-1 div.sk-label:hover label.sk-toggleable__label {background-color: #d4ebff;}#sk-container-id-1 div.sk-serial::before {content: \"\";position: absolute;border-left: 1px solid gray;box-sizing: border-box;top: 0;bottom: 0;left: 50%;z-index: 0;}#sk-container-id-1 div.sk-serial {display: flex;flex-direction: column;align-items: center;background-color: white;padding-right: 0.2em;padding-left: 0.2em;position: relative;}#sk-container-id-1 div.sk-item {position: relative;z-index: 1;}#sk-container-id-1 div.sk-parallel {display: flex;align-items: stretch;justify-content: center;background-color: white;position: relative;}#sk-container-id-1 div.sk-item::before, #sk-container-id-1 div.sk-parallel-item::before {content: \"\";position: absolute;border-left: 1px solid gray;box-sizing: border-box;top: 0;bottom: 0;left: 50%;z-index: -1;}#sk-container-id-1 div.sk-parallel-item {display: flex;flex-direction: column;z-index: 1;position: relative;background-color: white;}#sk-container-id-1 div.sk-parallel-item:first-child::after {align-self: flex-end;width: 50%;}#sk-container-id-1 div.sk-parallel-item:last-child::after {align-self: flex-start;width: 50%;}#sk-container-id-1 div.sk-parallel-item:only-child::after {width: 0;}#sk-container-id-1 div.sk-dashed-wrapped {border: 1px dashed gray;margin: 0 0.4em 0.5em 0.4em;box-sizing: border-box;padding-bottom: 0.4em;background-color: white;}#sk-container-id-1 div.sk-label label {font-family: monospace;font-weight: bold;display: inline-block;line-height: 1.2em;}#sk-container-id-1 div.sk-label-container {text-align: center;}#sk-container-id-1 div.sk-container {/* jupyter's `normalize.less` sets `[hidden] { display: none; }` but bootstrap.min.css set `[hidden] { display: none !important; }` so we also need the `!important` here to be able to override the default hidden behavior on the sphinx rendered scikit-learn.org. See: https://github.com/scikit-learn/scikit-learn/issues/21755 */display: inline-block !important;position: relative;}#sk-container-id-1 div.sk-text-repr-fallback {display: none;}</style><div id=\"sk-container-id-1\" class=\"sk-top-container\"><div class=\"sk-text-repr-fallback\"><pre>XGBClassifier(base_score=None, booster=None, callbacks=None,\n",
       "              colsample_bylevel=None, colsample_bynode=None,\n",
       "              colsample_bytree=None, device=None, early_stopping_rounds=None,\n",
       "              enable_categorical=False, eval_metric=&#x27;logloss&#x27;,\n",
       "              feature_types=None, feature_weights=None, gamma=None,\n",
       "              grow_policy=None, importance_type=None,\n",
       "              interaction_constraints=None, learning_rate=None, max_bin=None,\n",
       "              max_cat_threshold=None, max_cat_to_onehot=None,\n",
       "              max_delta_step=None, max_depth=None, max_leaves=None,\n",
       "              min_child_weight=None, missing=nan, monotone_constraints=None,\n",
       "              multi_strategy=None, n_estimators=None, n_jobs=None,\n",
       "              num_parallel_tree=None, ...)</pre><b>In a Jupyter environment, please rerun this cell to show the HTML representation or trust the notebook. <br />On GitHub, the HTML representation is unable to render, please try loading this page with nbviewer.org.</b></div><div class=\"sk-container\" hidden><div class=\"sk-item\"><div class=\"sk-estimator sk-toggleable\"><input class=\"sk-toggleable__control sk-hidden--visually\" id=\"sk-estimator-id-1\" type=\"checkbox\" checked><label for=\"sk-estimator-id-1\" class=\"sk-toggleable__label sk-toggleable__label-arrow\">XGBClassifier</label><div class=\"sk-toggleable__content\"><pre>XGBClassifier(base_score=None, booster=None, callbacks=None,\n",
       "              colsample_bylevel=None, colsample_bynode=None,\n",
       "              colsample_bytree=None, device=None, early_stopping_rounds=None,\n",
       "              enable_categorical=False, eval_metric=&#x27;logloss&#x27;,\n",
       "              feature_types=None, feature_weights=None, gamma=None,\n",
       "              grow_policy=None, importance_type=None,\n",
       "              interaction_constraints=None, learning_rate=None, max_bin=None,\n",
       "              max_cat_threshold=None, max_cat_to_onehot=None,\n",
       "              max_delta_step=None, max_depth=None, max_leaves=None,\n",
       "              min_child_weight=None, missing=nan, monotone_constraints=None,\n",
       "              multi_strategy=None, n_estimators=None, n_jobs=None,\n",
       "              num_parallel_tree=None, ...)</pre></div></div></div></div></div>"
      ],
      "text/plain": [
       "XGBClassifier(base_score=None, booster=None, callbacks=None,\n",
       "              colsample_bylevel=None, colsample_bynode=None,\n",
       "              colsample_bytree=None, device=None, early_stopping_rounds=None,\n",
       "              enable_categorical=False, eval_metric='logloss',\n",
       "              feature_types=None, feature_weights=None, gamma=None,\n",
       "              grow_policy=None, importance_type=None,\n",
       "              interaction_constraints=None, learning_rate=None, max_bin=None,\n",
       "              max_cat_threshold=None, max_cat_to_onehot=None,\n",
       "              max_delta_step=None, max_depth=None, max_leaves=None,\n",
       "              min_child_weight=None, missing=nan, monotone_constraints=None,\n",
       "              multi_strategy=None, n_estimators=None, n_jobs=None,\n",
       "              num_parallel_tree=None, ...)"
      ]
     },
     "execution_count": 25,
     "metadata": {},
     "output_type": "execute_result"
    }
   ],
   "source": [
    "xgb_model = XGBClassifier(use_label_encoder=False, eval_metric='logloss', random_state=42)\n",
    "xgb_model.fit(X_res, y_res)"
   ]
  },
  {
   "cell_type": "code",
   "execution_count": 26,
   "id": "88100cfb-fef5-49ad-9af6-807d0e399311",
   "metadata": {},
   "outputs": [],
   "source": [
    "explainer = shap.Explainer(xgb_model)\n",
    "shap_values = explainer(X_res)\n",
    "shap_importance = np.abs(shap_values.values).mean(axis=0)\n",
    "shap_feature_importance = pd.DataFrame({\n",
    "    'feature': X_train.columns,\n",
    "    'importance': shap_importance\n",
    "}).sort_values(by='importance', ascending=False)\n",
    "top_features = shap_feature_importance['feature'].head(30).tolist()"
   ]
  },
  {
   "cell_type": "code",
   "execution_count": 27,
   "id": "4eefde8e-54bc-47fa-8e14-4c167ae99fab",
   "metadata": {},
   "outputs": [],
   "source": [
    "X_train_shap = X_res[top_features]\n",
    "X_test_shap = X_test_scaled[top_features]"
   ]
  },
  {
   "cell_type": "code",
   "execution_count": 30,
   "id": "552daea9-72c7-4d14-9bbc-68a8ff588b16",
   "metadata": {},
   "outputs": [
    {
     "name": "stdout",
     "output_type": "stream",
     "text": [
      "[LightGBM] [Info] Number of positive: 233811, number of negative: 233811\n",
      "[LightGBM] [Info] Auto-choosing col-wise multi-threading, the overhead of testing was 0.054620 seconds.\n",
      "You can set `force_col_wise=true` to remove the overhead.\n",
      "[LightGBM] [Info] Total Bins 7642\n",
      "[LightGBM] [Info] Number of data points in the train set: 467622, number of used features: 30\n",
      "[LightGBM] [Info] [binary:BoostFromScore]: pavg=0.500000 -> initscore=0.000000\n"
     ]
    },
    {
     "data": {
      "text/html": [
       "<style>#sk-container-id-2 {color: black;background-color: white;}#sk-container-id-2 pre{padding: 0;}#sk-container-id-2 div.sk-toggleable {background-color: white;}#sk-container-id-2 label.sk-toggleable__label {cursor: pointer;display: block;width: 100%;margin-bottom: 0;padding: 0.3em;box-sizing: border-box;text-align: center;}#sk-container-id-2 label.sk-toggleable__label-arrow:before {content: \"▸\";float: left;margin-right: 0.25em;color: #696969;}#sk-container-id-2 label.sk-toggleable__label-arrow:hover:before {color: black;}#sk-container-id-2 div.sk-estimator:hover label.sk-toggleable__label-arrow:before {color: black;}#sk-container-id-2 div.sk-toggleable__content {max-height: 0;max-width: 0;overflow: hidden;text-align: left;background-color: #f0f8ff;}#sk-container-id-2 div.sk-toggleable__content pre {margin: 0.2em;color: black;border-radius: 0.25em;background-color: #f0f8ff;}#sk-container-id-2 input.sk-toggleable__control:checked~div.sk-toggleable__content {max-height: 200px;max-width: 100%;overflow: auto;}#sk-container-id-2 input.sk-toggleable__control:checked~label.sk-toggleable__label-arrow:before {content: \"▾\";}#sk-container-id-2 div.sk-estimator input.sk-toggleable__control:checked~label.sk-toggleable__label {background-color: #d4ebff;}#sk-container-id-2 div.sk-label input.sk-toggleable__control:checked~label.sk-toggleable__label {background-color: #d4ebff;}#sk-container-id-2 input.sk-hidden--visually {border: 0;clip: rect(1px 1px 1px 1px);clip: rect(1px, 1px, 1px, 1px);height: 1px;margin: -1px;overflow: hidden;padding: 0;position: absolute;width: 1px;}#sk-container-id-2 div.sk-estimator {font-family: monospace;background-color: #f0f8ff;border: 1px dotted black;border-radius: 0.25em;box-sizing: border-box;margin-bottom: 0.5em;}#sk-container-id-2 div.sk-estimator:hover {background-color: #d4ebff;}#sk-container-id-2 div.sk-parallel-item::after {content: \"\";width: 100%;border-bottom: 1px solid gray;flex-grow: 1;}#sk-container-id-2 div.sk-label:hover label.sk-toggleable__label {background-color: #d4ebff;}#sk-container-id-2 div.sk-serial::before {content: \"\";position: absolute;border-left: 1px solid gray;box-sizing: border-box;top: 0;bottom: 0;left: 50%;z-index: 0;}#sk-container-id-2 div.sk-serial {display: flex;flex-direction: column;align-items: center;background-color: white;padding-right: 0.2em;padding-left: 0.2em;position: relative;}#sk-container-id-2 div.sk-item {position: relative;z-index: 1;}#sk-container-id-2 div.sk-parallel {display: flex;align-items: stretch;justify-content: center;background-color: white;position: relative;}#sk-container-id-2 div.sk-item::before, #sk-container-id-2 div.sk-parallel-item::before {content: \"\";position: absolute;border-left: 1px solid gray;box-sizing: border-box;top: 0;bottom: 0;left: 50%;z-index: -1;}#sk-container-id-2 div.sk-parallel-item {display: flex;flex-direction: column;z-index: 1;position: relative;background-color: white;}#sk-container-id-2 div.sk-parallel-item:first-child::after {align-self: flex-end;width: 50%;}#sk-container-id-2 div.sk-parallel-item:last-child::after {align-self: flex-start;width: 50%;}#sk-container-id-2 div.sk-parallel-item:only-child::after {width: 0;}#sk-container-id-2 div.sk-dashed-wrapped {border: 1px dashed gray;margin: 0 0.4em 0.5em 0.4em;box-sizing: border-box;padding-bottom: 0.4em;background-color: white;}#sk-container-id-2 div.sk-label label {font-family: monospace;font-weight: bold;display: inline-block;line-height: 1.2em;}#sk-container-id-2 div.sk-label-container {text-align: center;}#sk-container-id-2 div.sk-container {/* jupyter's `normalize.less` sets `[hidden] { display: none; }` but bootstrap.min.css set `[hidden] { display: none !important; }` so we also need the `!important` here to be able to override the default hidden behavior on the sphinx rendered scikit-learn.org. See: https://github.com/scikit-learn/scikit-learn/issues/21755 */display: inline-block !important;position: relative;}#sk-container-id-2 div.sk-text-repr-fallback {display: none;}</style><div id=\"sk-container-id-2\" class=\"sk-top-container\"><div class=\"sk-text-repr-fallback\"><pre>LGBMClassifier(class_weight=&#x27;balanced&#x27;, colsample_bytree=0.8,\n",
       "               min_child_weight=10, n_estimators=500, objective=&#x27;binary&#x27;,\n",
       "               random_state=42, reg_alpha=1.0, reg_lambda=1.0, subsample=0.8)</pre><b>In a Jupyter environment, please rerun this cell to show the HTML representation or trust the notebook. <br />On GitHub, the HTML representation is unable to render, please try loading this page with nbviewer.org.</b></div><div class=\"sk-container\" hidden><div class=\"sk-item\"><div class=\"sk-estimator sk-toggleable\"><input class=\"sk-toggleable__control sk-hidden--visually\" id=\"sk-estimator-id-2\" type=\"checkbox\" checked><label for=\"sk-estimator-id-2\" class=\"sk-toggleable__label sk-toggleable__label-arrow\">LGBMClassifier</label><div class=\"sk-toggleable__content\"><pre>LGBMClassifier(class_weight=&#x27;balanced&#x27;, colsample_bytree=0.8,\n",
       "               min_child_weight=10, n_estimators=500, objective=&#x27;binary&#x27;,\n",
       "               random_state=42, reg_alpha=1.0, reg_lambda=1.0, subsample=0.8)</pre></div></div></div></div></div>"
      ],
      "text/plain": [
       "LGBMClassifier(class_weight='balanced', colsample_bytree=0.8,\n",
       "               min_child_weight=10, n_estimators=500, objective='binary',\n",
       "               random_state=42, reg_alpha=1.0, reg_lambda=1.0, subsample=0.8)"
      ]
     },
     "execution_count": 30,
     "metadata": {},
     "output_type": "execute_result"
    }
   ],
   "source": [
    "lgbm = LGBMClassifier(\n",
    "    objective='binary',\n",
    "    class_weight='balanced',\n",
    "    n_estimators=500,\n",
    "    learning_rate=0.1,\n",
    "    num_leaves=31,\n",
    "    subsample=0.8,\n",
    "    colsample_bytree=0.8,\n",
    "    reg_alpha=1.0,\n",
    "    reg_lambda=1.0,\n",
    "    min_child_weight=10,\n",
    "    random_state=42\n",
    ")\n",
    "lgbm.fit(X_train_shap, y_res)"
   ]
  },
  {
   "cell_type": "code",
   "execution_count": 31,
   "id": "bc796ec5-142f-43d6-acfe-9c3e8dd70083",
   "metadata": {},
   "outputs": [],
   "source": [
    "y_probs = lgbm.predict_proba(X_test_shap)[:, 1]\n",
    "precisions, recalls, thresholds = precision_recall_curve(y_test, y_probs)\n",
    "f1_scores = 2 * (precisions * recalls) / (precisions + recalls + 1e-6)\n",
    "best_thresh = thresholds[np.argmax(f1_scores)]\n",
    "y_pred = (y_probs >= best_thresh).astype(int)"
   ]
  },
  {
   "cell_type": "code",
   "execution_count": 32,
   "id": "d63a638b-e564-4409-b9a0-09c139995c07",
   "metadata": {},
   "outputs": [
    {
     "name": "stdout",
     "output_type": "stream",
     "text": [
      "\n",
      "🔷 Balanced LightGBM Results\n",
      "Best Threshold: 0.32, F1: 0.6050\n",
      "Accuracy: 0.913316755404354\n",
      "Confusion Matrix:\n",
      " [[55516  2945]\n",
      " [ 2737  4351]]\n",
      "Classification Report:\n",
      "               precision    recall  f1-score   support\n",
      "\n",
      "           0       0.95      0.95      0.95     58461\n",
      "           1       0.60      0.61      0.60      7088\n",
      "\n",
      "    accuracy                           0.91     65549\n",
      "   macro avg       0.77      0.78      0.78     65549\n",
      "weighted avg       0.91      0.91      0.91     65549\n",
      "\n"
     ]
    }
   ],
   "source": [
    "print(\"\\n🔷 Balanced LightGBM Results\")\n",
    "print(f\"Best Threshold: {best_thresh:.2f}, F1: {max(f1_scores):.4f}\")\n",
    "print(\"Accuracy:\", accuracy_score(y_test, y_pred))\n",
    "print(\"Confusion Matrix:\\n\", confusion_matrix(y_test, y_pred))\n",
    "print(\"Classification Report:\\n\", classification_report(y_test, y_pred))"
   ]
  },
  {
   "cell_type": "code",
   "execution_count": null,
   "id": "3ffcf4e3-d995-4a7a-83e5-42bf90dfcb75",
   "metadata": {},
   "outputs": [],
   "source": []
  }
 ],
 "metadata": {
  "kernelspec": {
   "display_name": "Python 3 (ipykernel)",
   "language": "python",
   "name": "python3"
  },
  "language_info": {
   "codemirror_mode": {
    "name": "ipython",
    "version": 3
   },
   "file_extension": ".py",
   "mimetype": "text/x-python",
   "name": "python",
   "nbconvert_exporter": "python",
   "pygments_lexer": "ipython3",
   "version": "3.11.7"
  }
 },
 "nbformat": 4,
 "nbformat_minor": 5
}
